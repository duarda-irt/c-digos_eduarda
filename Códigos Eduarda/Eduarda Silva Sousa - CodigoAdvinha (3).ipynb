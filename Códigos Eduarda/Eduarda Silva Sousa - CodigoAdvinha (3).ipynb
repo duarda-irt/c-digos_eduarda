{
 "cells": [
  {
   "cell_type": "markdown",
   "id": "4f7a1d42",
   "metadata": {},
   "source": [
    "### Jogo de advinhação\n",
    "\n",
    "Vamos criar um jogo que advinha o número que o usuário digitou!!\n"
   ]
  },
  {
   "cell_type": "markdown",
   "id": "56cf80bf",
   "metadata": {},
   "source": [
    "### Meu carro do sonho\n",
    "\n",
    "Vamos pedir para o usuário nos informar o nome do carro e o preço do carro dos sonhos deles."
   ]
  },
  {
   "cell_type": "code",
   "execution_count": 5,
   "id": "5fa02260",
   "metadata": {},
   "outputs": [
    {
     "name": "stdout",
     "output_type": "stream",
     "text": [
      "Jogo de advinhação!!! Boa Sorte!!\n",
      "------------------------------------\n",
      "acho que seu número foi 3.0\n"
     ]
    }
   ],
   "source": [
    "print(\"Jogo de advinhação!!! Boa Sorte!!\")\n",
    "print(\"------------------------------------\")\n",
    "## o número deve ser float, pois deve aceitar tanto números inteiros, quanto números quebrados\n",
    "numero_usuario= float(input(\"digite um número :\"))\n",
    "print(f\"acho que seu número foi {numero_usuario}\")"
   ]
  },
  {
   "cell_type": "code",
   "execution_count": 8,
   "id": "7d9330a4",
   "metadata": {},
   "outputs": [
    {
     "name": "stdout",
     "output_type": "stream",
     "text": [
      "o preço do seu carro é 20000.00, falta 15000.00para realizar seu sonho\n"
     ]
    }
   ],
   "source": [
    "\n",
    "# 1º Primeiro peça ao usuário o nome do carro dos sonhos:\n",
    "nome_carro = input(\"Informe o nome do seu carro do sonho:\")\n",
    "# 2º Peça o preço do carro dos sonhos\n",
    "preço_docarro= float(input(\"informe o preço do carro do sonho:\"))\n",
    "# 3º Pergunte quanto dinheiro o usuário tem e guarde o valor em uma variáve\n",
    "quantia= float (input(\"quanto de dinheiro vc tem?\"))\n",
    "# 4º Calcule quanto falta para o usuário conseguir comprar o carro\n",
    "soma = (preço_docarro- quantia)\n",
    "# 5º Mostre na tela o nome do carro o preço dele e quanto falta para o usuário realizar o sonho dele.\n",
    "print(f\"o preço do seu carro é {preço_docarro:.2f}, falta {quantia:.2f}para realizar seu sonho\")\n",
    "\n",
    "\n",
    "\n"
   ]
  },
  {
   "cell_type": "markdown",
   "id": "d28ba737",
   "metadata": {},
   "source": [
    "### Agenda de Celular\n",
    "\n",
    "Peça ao usuário que informe o nome dele e o número do telefone dele\n",
    "\n",
    "Depois mostre ao usuário print() com uma mensagem o nome dele e o número do telefone"
   ]
  },
  {
   "cell_type": "code",
   "execution_count": 1,
   "id": "3037f6bb",
   "metadata": {},
   "outputs": [
    {
     "name": "stdout",
     "output_type": "stream",
     "text": [
      "seu nome é eduarda, seu telefone é 1156667\n"
     ]
    }
   ],
   "source": [
    "# preciso pedir o nome do usuário\n",
    "nome_usuario= input(\"digite o nome do usuário:\")\n",
    "#preciso pedir o telefone\n",
    "telefone_usuário= input (\"qual seu número de telefone?\")\n",
    "# mostrar as informações\n",
    "print  (f\"seu nome é {nome_usuario}, seu telefone é {telefone_usuário}\")\n",
    "                                                \n"
   ]
  },
  {
   "cell_type": "markdown",
   "id": "3312349f",
   "metadata": {},
   "source": [
    "### Adivinha a idade\n",
    "\n",
    "preciso do ano do nascimento e o ano atual\n",
    "\n",
    "formula = ano_atual - ano_nascimento\n",
    "\n",
    "tipo da variavel int"
   ]
  },
  {
   "cell_type": "code",
   "execution_count": 2,
   "id": "4d8cbcc1",
   "metadata": {},
   "outputs": [
    {
     "name": "stdout",
     "output_type": "stream",
     "text": [
      "o ano que vc nasceu 2009, e estamos no ano de 2025, então sua idade é 16\n"
     ]
    }
   ],
   "source": [
    "ano_nascimento = int(input(\"em qual ano voce nasceu?\"))\n",
    "ano_atual = int(input(\"em qual ano estamos?\"))\n",
    "resultado = (ano_atual - ano_nascimento)\n",
    "print (f\"o ano que vc nasceu {ano_nascimento}, e estamos no ano de {ano_atual}, então sua idade é {resultado}\")"
   ]
  }
 ],
 "metadata": {
  "kernelspec": {
   "display_name": "Python 3",
   "language": "python",
   "name": "python3"
  },
  "language_info": {
   "codemirror_mode": {
    "name": "ipython",
    "version": 3
   },
   "file_extension": ".py",
   "mimetype": "text/x-python",
   "name": "python",
   "nbconvert_exporter": "python",
   "pygments_lexer": "ipython3",
   "version": "3.13.2"
  }
 },
 "nbformat": 4,
 "nbformat_minor": 5
}
