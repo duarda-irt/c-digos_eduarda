{
 "cells": [
  {
   "cell_type": "markdown",
   "id": "0a37622c",
   "metadata": {},
   "source": [
    "### clt"
   ]
  },
  {
   "cell_type": "code",
   "execution_count": null,
   "id": "278829de",
   "metadata": {},
   "outputs": [],
   "source": [
    "salario = 1200\n",
    "gasto = 200\n",
    "internet= 200\n",
    "alimento= 1500\n",
    "agua= 100\n",
    "luz= 300\n",
    "condominio= 570\n",
    "entretenimento= 1200\n",
    "quanto_sobra=0\n",
    "total_gasto="
   ]
  },
  {
   "cell_type": "markdown",
   "id": "7b8c3a0d",
   "metadata": {},
   "source": [
    "### clt"
   ]
  },
  {
   "cell_type": "code",
   "execution_count": 9,
   "id": "01841025",
   "metadata": {},
   "outputs": [
    {
     "ename": "TypeError",
     "evalue": "unsupported operand type(s) for +: 'int' and 'tuple'",
     "output_type": "error",
     "traceback": [
      "\u001b[31m---------------------------------------------------------------------------\u001b[39m",
      "\u001b[31mTypeError\u001b[39m                                 Traceback (most recent call last)",
      "\u001b[36mCell\u001b[39m\u001b[36m \u001b[39m\u001b[32mIn[9]\u001b[39m\u001b[32m, line 10\u001b[39m\n\u001b[32m      7\u001b[39m condominio=\u001b[32m0\u001b[39m\n\u001b[32m      8\u001b[39m entretenimento=\u001b[32m750\u001b[39m\n\u001b[32m---> \u001b[39m\u001b[32m10\u001b[39m total_gasto = \u001b[43mgasto\u001b[49m\u001b[43m \u001b[49m\u001b[43m+\u001b[49m\u001b[43m \u001b[49m\u001b[43minternet\u001b[49m + alimento+ agua + luz + condominio + entretenimento\n\u001b[32m     12\u001b[39m quanto_sobra= salario - total_gasto\n\u001b[32m     13\u001b[39m \u001b[38;5;28mprint\u001b[39m(\u001b[33mf\u001b[39m\u001b[33m\"\u001b[39m\u001b[33mvoce esta devendo : \u001b[39m\u001b[38;5;132;01m{\u001b[39;00mquanto_sobra\u001b[38;5;132;01m}\u001b[39;00m\u001b[33m\"\u001b[39m)\n",
      "\u001b[31mTypeError\u001b[39m: unsupported operand type(s) for +: 'int' and 'tuple'"
     ]
    }
   ],
   "source": [
    "salario= 3500\n",
    "gasto= 450\n",
    "internet= 99,99\n",
    "alimento= 1200\n",
    "agua=0\n",
    "luz=0\n",
    "condominio=0\n",
    "entretenimento=750\n",
    "\n",
    "total_gasto = gasto + internet + alimento+ agua + luz + condominio + entretenimento\n",
    "\n",
    "quanto_sobra= salario - total_gasto\n",
    "print(f\"voce esta devendo : {quanto_sobra}\")\n",
    "\n"
   ]
  }
 ],
 "metadata": {
  "kernelspec": {
   "display_name": "Python 3",
   "language": "python",
   "name": "python3"
  },
  "language_info": {
   "codemirror_mode": {
    "name": "ipython",
    "version": 3
   },
   "file_extension": ".py",
   "mimetype": "text/x-python",
   "name": "python",
   "nbconvert_exporter": "python",
   "pygments_lexer": "ipython3",
   "version": "3.13.2"
  }
 },
 "nbformat": 4,
 "nbformat_minor": 5
}
