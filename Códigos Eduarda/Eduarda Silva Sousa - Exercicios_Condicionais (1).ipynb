{
 "cells": [
  {
   "cell_type": "markdown",
   "id": "633160a3",
   "metadata": {},
   "source": [
    "### 📝Lista de Exercícios: Condicionais IF/ELSE"
   ]
  },
  {
   "cell_type": "markdown",
   "id": "605d2a7e",
   "metadata": {},
   "source": [
    "Exercício 1 - Maioridade 🔞\n",
    "\n",
    "Crie um programa que pergunta a idade do usuário e diz se ele é maior ou menor de idade."
   ]
  },
  {
   "cell_type": "code",
   "execution_count": 4,
   "id": "93ea230f",
   "metadata": {},
   "outputs": [
    {
     "name": "stdout",
     "output_type": "stream",
     "text": [
      "maior de idade\n"
     ]
    }
   ],
   "source": [
    "idade = int(input(\"Quantos anos você tem? \"))\n",
    "\n",
    "# Complete o código aqui\n",
    "if idade >=18:\n",
    "    print(\"maior de idade\")\n",
    "else:\n",
    "    print(\"menor idade\")\n"
   ]
  },
  {
   "cell_type": "markdown",
   "id": "6e9528f5",
   "metadata": {},
   "source": [
    "Exercício 2 - Aprovação na Prova 🧠\n",
    "\n",
    "Faça um programa que pergunte a nota de um aluno (0 a 10) e diz se ele foi aprovado(nota >= 5) ou reprovado (nota <5)."
   ]
  },
  {
   "cell_type": "code",
   "execution_count": 10,
   "id": "4a9f8f8b",
   "metadata": {},
   "outputs": [
    {
     "name": "stdout",
     "output_type": "stream",
     "text": [
      "vc foi aprovado\n"
     ]
    }
   ],
   "source": [
    "nota = float(input(\"Informe a sua nota de (0 a 10)\"))\n",
    "\n",
    "# Complete o código aqui\n",
    "if nota >= 5 :\n",
    " print(\"vc foi aprovado\")\n",
    "else:\n",
    "   print(\"voce foi reprovado\")"
   ]
  },
  {
   "cell_type": "markdown",
   "id": "9f8e9b92",
   "metadata": {},
   "source": [
    "Exercicio 3 - CNH 🚘🚙\n",
    "\n",
    " 1º - Peça ao usuário que digite a idade dele.\n",
    "\n",
    " 2º - Peça pra ele dizer se foi aprovado ou reprovado no curso de cnh.\n",
    "\n",
    " 3º - Use if e else para verificar se ele tem 18 anos ou mais e se foi aprovado.\n",
    "\n",
    " 4º - Se as condições do passo 3 estiverem certas, print(\"pode dirigir\").\n",
    " \n",
    " 5º - Se não print(\"vai andar a pé\")"
   ]
  },
  {
   "cell_type": "code",
   "execution_count": 16,
   "id": "bee9f043",
   "metadata": {},
   "outputs": [
    {
     "name": "stdout",
     "output_type": "stream",
     "text": [
      "voce pode dirigir\n"
     ]
    }
   ],
   "source": [
    "### Seu código aqui\n",
    "idade= int(input(\"qual é a sua idade?\"))\n",
    "cnh= input(\"voce foi aprovado no curso de cnh(sim ou não)?\")\n",
    "\n",
    "if idade >=18 and cnh ==\"sim\":\n",
    "  print(\"voce pode dirigir\")\n",
    "else:\n",
    "       (\"voce nao pode dirigir\")\n",
    "\n"
   ]
  },
  {
   "cell_type": "markdown",
   "id": "e9c60d12",
   "metadata": {},
   "source": [
    "Exercício 4 - Calculadora de Desconto. 💵 🤑\n",
    "\n",
    "Uma loja dá 10% de desconto para compras acima de R$ 100,00. Faça um programa que:\n",
    "\n",
    "1º - Pergunta o valor da compra.\n",
    "\n",
    "2º - Calcula o valor final com desconto (se aplicável).\n",
    "\n",
    "3º - Mostra o valor a pagar."
   ]
  },
  {
   "cell_type": "code",
   "execution_count": 25,
   "id": "5edc8855",
   "metadata": {},
   "outputs": [
    {
     "name": "stdout",
     "output_type": "stream",
     "text": [
      "voce teve 10% de desconto, o valor da compra ficou 109.8\n"
     ]
    }
   ],
   "source": [
    "### Seu código aqui\n",
    "valor= float(input(\"qual é o valor da compra?\"))\n",
    "desconto= valor*0.10\n",
    "valor_final = valor - desconto\n",
    "\n",
    "if valor >=100: \n",
    "   print(f\"voce teve 10% de desconto, o valor da compra ficou {valor_final}\")\n",
    "\n",
    "else:\n",
    "   print(\"voce não terá o desconto\")"
   ]
  },
  {
   "cell_type": "markdown",
   "id": "ec96b43c",
   "metadata": {},
   "source": [
    "Exercício 5 - Classificação de Notas 🧑‍🎓\n",
    "\n",
    "Pergunte a nota de um aluno e dependendo da nota que ele informar, o classifique de acordo com as regras abaixo:\n",
    "\n",
    "Classifique a nota do aluno:\n",
    "\n",
    "- 9 até 10: \"Excelente\"\n",
    "\n",
    "- 7 até 8.9: \"Bom\"\n",
    "\n",
    "- 5 até 6.9: \"Regular\"\n",
    "\n",
    "- 0 até 4.9: \"Reprovado\"\n",
    "\n",
    "mostre para o aluno a classificação dele através de um print, exemplo print(\"Excelente\")."
   ]
  },
  {
   "cell_type": "code",
   "execution_count": 33,
   "id": "3caec2d0",
   "metadata": {},
   "outputs": [
    {
     "name": "stdout",
     "output_type": "stream",
     "text": [
      "vc foi reprovado\n"
     ]
    }
   ],
   "source": [
    "nota= float(input(\"qual a sua nota?\"))\n",
    "\n",
    "if nota >=9 and nota<=10:\n",
    "    print(\"execelente\")\n",
    "elif nota >=7 and nota <=8.9:\n",
    "    print(\"bom\")\n",
    "elif nota >=5 and nota <=6.9:\n",
    "    print(\"regular\")\n",
    "else:\n",
    "    print(\"vc foi reprovado\")\n"
   ]
  },
  {
   "cell_type": "markdown",
   "id": "251b0fa7",
   "metadata": {},
   "source": [
    "Exercício 6 - Acesso ao Sistema 🔑\n",
    "\n",
    "Crie um login simples:\n",
    "\n",
    "- usuario_correto = \"admin\"\n",
    "\n",
    "- senha_correta = \"1234\"\n",
    "\n",
    "**Peça para o usuário digitar primeiro o login e depois a senha, caso login e senha estejam corretos programa deve mostrar \"Acesso permitido\" se não \"Acesso negado\"**\n"
   ]
  },
  {
   "cell_type": "code",
   "execution_count": 34,
   "id": "7fcf16db",
   "metadata": {},
   "outputs": [
    {
     "name": "stdout",
     "output_type": "stream",
     "text": [
      "acesso permitido, bem vindo!\n"
     ]
    }
   ],
   "source": [
    "usuário_correto= \"admin\"\n",
    "senha_correta= 1234\n",
    "\n",
    "login= input(\"qual seu login/usuário ?\")\n",
    "senha= int(input(\"digite sua senha :\"))\n",
    "\n",
    "if login == usuário_correto and senha == senha_correta:\n",
    "   print(f\"acesso permitido, bem vindo!\")\n",
    "else:\n",
    "   (\"acesso negado, tente novamente\")\n"
   ]
  },
  {
   "cell_type": "markdown",
   "id": "46c27406",
   "metadata": {},
   "source": [
    "Exercício 7 - Maior Número 📉\n",
    "\n",
    "Peça 3 números e mostre qual é o maior deles."
   ]
  },
  {
   "cell_type": "code",
   "execution_count": 5,
   "id": "916439ff",
   "metadata": {},
   "outputs": [
    {
     "name": "stdout",
     "output_type": "stream",
     "text": [
      "o maior número é o 10.0\n"
     ]
    }
   ],
   "source": [
    "num1= float(input(\" qual o primeiro número?\"))\n",
    "num2= float(input(\" qual o segundo número?\"))\n",
    "num3= float (input(\"qual o terceiro número?\"))\n",
    "if num1> num2 and num1 > num3:\n",
    "    print(f\"o maior número é o {num1}\")\n",
    "elif num2 > num1 and num2> num3:\n",
    "    print(f\"o maior número é o {num2}\")\n",
    "else:\n",
    "    print(f\"o maior número é {num3}\")"
   ]
  },
  {
   "cell_type": "markdown",
   "id": "984fe0fe",
   "metadata": {},
   "source": [
    "Exercício 8 - Dia da Semana\n",
    "Peça um número de 1 a 7 e mostre o dia da semana correspondente: 📅\n",
    "\n",
    "- 1: Domingo\n",
    "\n",
    "- 2: Segunda\n",
    "\n",
    "- ... até 7: Sábado"
   ]
  },
  {
   "cell_type": "code",
   "execution_count": 6,
   "id": "f34c6fbf",
   "metadata": {},
   "outputs": [
    {
     "name": "stdout",
     "output_type": "stream",
     "text": [
      "o dia escolhido foi sexta\n"
     ]
    }
   ],
   "source": [
    "semana= int(input(\"fale um número de 1 a 7 e mostre o dia da semana\"))\n",
    "if semana== 1:\n",
    "    print(\"o dia escolhido foi domingo\")\n",
    "elif semana== 2:\n",
    "    print(\"o dia escolhido foi segunda\")\n",
    "elif semana== 3:\n",
    "    print(\"o dia escolhido foi terça\")\n",
    "elif semana== 4:\n",
    "    print(\"o dia escolhido foi quarta\")\n",
    "elif semana== 5:\n",
    "    print(\"o dia escolhido foi quinta\")\n",
    "else:\n",
    "    print(\"o dia escolhido foi sexta\")"
   ]
  },
  {
   "cell_type": "markdown",
   "id": "f1f760b7",
   "metadata": {},
   "source": [
    "Exercício 9 - Calculadora Simples 📏📐\n",
    "\n",
    "- Faça uma calculadora que:\n",
    "\n",
    "- Pede dois números\n",
    "\n",
    "- Pede a operação (+, -, *, /)\n",
    "\n",
    "- Dependendo da operação mostre o resultado.\n",
    "\n"
   ]
  },
  {
   "cell_type": "code",
   "execution_count": null,
   "id": "95c6ce03",
   "metadata": {},
   "outputs": [],
   "source": [
    "num1= float(input(\" qual o primeiro número?\"))\n",
    "num2= float(input(\" qual o segundo número?\"))\n",
    "operação = (input(\"qual operação vc quer fazer?\"))\n",
    "\n",
    "soma= num1+num2\n",
    "menos= num1+num2\n",
    "multiplicação= num1*num2\n",
    "divisão= num1/num2\n",
    "if operação== \"+\":\n",
    "   print(f\"a soma dos dois numeros deu {soma}\")\n",
    "elif operação== \"-\":\n",
    "   print(f\"a subtração dos dois numeros deu  {menos}\")\n",
    "elif operação== \"*\":\n",
    "   print(f\"a multiplicação dos dois numeros deu {multiplicação}\")\n",
    "elif operação== \"/\":\n",
    "   print(f\"a divisão dos dois numeros deu {divisão}\")\n"
   ]
  },
  {
   "cell_type": "markdown",
   "id": "f39f6b73",
   "metadata": {},
   "source": [
    "Exercício 10 - Sistema de Multas 🚙🚘🧾\n",
    "\n",
    "\n",
    "- Velocidade máxima: 80 km/h 🚫\n",
    "\n",
    "- Até 80: \"Sem multa\"\n",
    "\n",
    "- 81-100: \"Multa leve\"\n",
    "\n",
    "- Acima de 100: \"Multa grave\""
   ]
  },
  {
   "cell_type": "code",
   "execution_count": 12,
   "id": "20fdc977",
   "metadata": {},
   "outputs": [
    {
     "name": "stdout",
     "output_type": "stream",
     "text": [
      "vc ultrapassou completamente da velocidade permitida, multa grave.\n"
     ]
    }
   ],
   "source": [
    "velocidade= int(input(\" qual foi a sua velocidae na pista?\"))\n",
    "if velocidade > 70 and velocidade <=80:\n",
    "    print(\"vc está dentro da velocidade permitida, sem multa.\")\n",
    "elif velocidade >81 and velocidade <=100:\n",
    "    print(\"vc ultrapassou da velocidade permitida, multa leve.\")\n",
    "else:\n",
    "    print(\"vc ultrapassou completamente da velocidade permitida, multa grave.\")\n"
   ]
  }
 ],
 "metadata": {
  "kernelspec": {
   "display_name": "Python 3",
   "language": "python",
   "name": "python3"
  },
  "language_info": {
   "codemirror_mode": {
    "name": "ipython",
    "version": 3
   },
   "file_extension": ".py",
   "mimetype": "text/x-python",
   "name": "python",
   "nbconvert_exporter": "python",
   "pygments_lexer": "ipython3",
   "version": "3.13.2"
  }
 },
 "nbformat": 4,
 "nbformat_minor": 5
}
