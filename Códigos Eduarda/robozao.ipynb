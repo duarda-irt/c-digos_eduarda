{
 "cells": [
  {
   "cell_type": "code",
   "execution_count": 2,
   "id": "5eaf5473",
   "metadata": {},
   "outputs": [],
   "source": [
    "import pyautogui as aut "
   ]
  },
  {
   "cell_type": "code",
   "execution_count": null,
   "id": "8131c63c",
   "metadata": {},
   "outputs": [],
   "source": [
    "\n",
    "\n",
    "#pressiono a tecla de atalho win +r\n",
    "aut.hotkey(\"win\", \"r\")\n",
    "#escrever notepad\n",
    "aut.write(\"notepad\", interval= 0.7)\n",
    "#espera\n",
    "aut.sleep(0.3)\n",
    "#aperta enter\n",
    "aut.press(\"enter\")\n",
    "aut.sleep(0.2)\n",
    "aut.moveTo(54,132)\n",
    "aut.click()\n",
    "aut.sleep(0.6)\n",
    "aut.write(\"testando pyautogui\")\n",
    "\n",
    "\n"
   ]
  },
  {
   "cell_type": "code",
   "execution_count": 3,
   "id": "d0ec887b",
   "metadata": {},
   "outputs": [],
   "source": [
    "aut.mouseInfo()"
   ]
  },
  {
   "cell_type": "code",
   "execution_count": 13,
   "id": "a92017f3",
   "metadata": {},
   "outputs": [],
   "source": [
    "import pyautogui as aut \n",
    "\n",
    "aut.hotkey(\"win\", \"r\")\n",
    "aut.sleep(0.2)\n",
    "aut.write(\"chrome\", interval= 0.7)\n",
    "aut.press(\"enter\")\n",
    "aut.sleep(2)\n",
    "aut.moveTo(593,852)\n",
    "aut.click()\n",
    "aut.write(\"youtube\")\n",
    "aut.press(\"enter\")\n",
    "aut.moveTo(93,317)\n",
    "aut.click()"
   ]
  },
  {
   "cell_type": "markdown",
   "id": "70fdc6d9",
   "metadata": {},
   "source": [
    "### Calculadora\n"
   ]
  },
  {
   "cell_type": "code",
   "execution_count": null,
   "id": "0ec94a4d",
   "metadata": {},
   "outputs": [],
   "source": [
    "import pyautogui as aut\n",
    "\n",
    "aut.hotkey(\"win\")\n",
    "aut.sleep(0.5)\n",
    "aut.moveTo(671,1064)\n",
    "aut.click()\n",
    "aut.write(\"calculadora\")\n",
    "aut.press(\"enter\")\n",
    "aut.sleep(1)\n",
    "aut.moveTo(1844,98)\n",
    "aut.write(\"50+10\", interval= 0.5)\n",
    "aut.press(\"enter\")\n"
   ]
  },
  {
   "cell_type": "code",
   "execution_count": 5,
   "id": "d6916bdf",
   "metadata": {},
   "outputs": [],
   "source": [
    "aut.press(\"win\")\n",
    "aut.sleep(0.5)\n",
    "aut.write(\"paint\",interval=0.04)\n",
    "aut.press(\"enter\")\n",
    "aut.moveTo(715,202)\n",
    "aut.sleep(1)\n",
    "aut.click()\n",
    "aut.sleep(2)\n",
    "\n",
    "aut.moveTo(935,633)\n",
    "aut.mouseDown()\n",
    "#quadrado\n",
    "aut.sleep(1)\n",
    "aut.dragTo(633, 833, duration=0.9)\n",
    "aut.sleep(3)\n",
    "#triangulo\n",
    "aut.moveTo(782,194)\n",
    "aut.click()\n",
    "aut.sleep(2)\n",
    "\n",
    "aut.moveTo(935, 633)\n",
    "aut.mouseDown()\n",
    "aut.sleep(1)\n",
    "aut.dragTo(633, 533, duration=0.9)\n",
    "\n",
    "\n",
    "\n"
   ]
  }
 ],
 "metadata": {
  "kernelspec": {
   "display_name": "Python 3",
   "language": "python",
   "name": "python3"
  },
  "language_info": {
   "codemirror_mode": {
    "name": "ipython",
    "version": 3
   },
   "file_extension": ".py",
   "mimetype": "text/x-python",
   "name": "python",
   "nbconvert_exporter": "python",
   "pygments_lexer": "ipython3",
   "version": "3.13.2"
  }
 },
 "nbformat": 4,
 "nbformat_minor": 5
}
